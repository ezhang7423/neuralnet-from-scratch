{
 "cells": [
  {
   "cell_type": "code",
   "execution_count": 5,
   "metadata": {},
   "outputs": [
    {
     "name": "stdout",
     "output_type": "stream",
     "text": [
      "3000\n",
      "['solitude', 'extended', 'over', 'those', 'hap', 'by', 'ic', 'new', 'p', 'regions', 'where', 'now', 'are', 'reared', 'hie', 'stately', 'towers', 'of', 'the', 'jones', 's', 'the', 'and', 'the', 'thus', 'gliding', 'in', 'silent', 'wonder', 'through', 'these', 'new', 'and', 'unknown', 'scenes', 'the', 'gallant', 'of', 'swept', 'by', 'the', 'foot', 'of', 'a', 'that', 'forth', 'boldly', 'into', 'the', 'waves', 'and', 'seemed', 'to', 'frown', 'upon', 'them', 'as', 'they', 'against', 'its', 'base', 'this', 'is', 'the', 'bluff', 'well', 'known', 'to', 'modem', 'by', 'the', 'name', 'of', 's', 'point', 'from', 'the', 'fair', 'castle', 'which', 'like', 'an', 'elephant', 'it', 'carries', 'upon', 'its', 'back', 'and', 'here', 'broke', 'upon', 'their', 'view', 'a', 'wild', 'and', 'varied', 'prospect', 'where', 'land', 'and', 'water', 'were', 'as', 'though', 'they', 'had', 'combined', 'to', 'and', 'set', 'off', 'each', 'other', 's', 'charms', 'to', 'their', 'right', 'lay', 'the', 'point', 'of', 's', 'island', 'in', 'the', 'fresh', 'of', 'living', 'it', 'stretched', 'the', 'pleasant', 'coast', 'of', 'and', 'the', 'small', 'harbour', 'well', 'known', 'by', 'the', 'name', 'of', 's', 'â', 'a', 'place', 'infamous', 'in', 'latter', 'days', 'by', 'reason', 'of', 'its', 'being', 'the', 'haunt', 'of', 'who', 'these', 'seas', 'and', 'patches', 'and', 'insulting', 'gentlemen', 'when', 'in', 'their', 'pleasure', 'boats', 'to', 'the', 'left', 'a', 'deep', 'bay', 'or', 'rather', 'creek', 'gracefully', 'between', 'shores', 'fringed', 'with', 'forests', 'and', 'forming', 'a', 'kind', 'of', 'vista', 'through', 'which', 'were', 'beheld', 'the', 'regions', 'of', 'and', 'here', 'the', 'eye', 'with', 'delight', 'by', 'history', 'of', 'on', 'a', 'richly', 'wooded', 'country', 'by', 'shadowy', 'intervals', 'and', 'waving', 'lines', 'of', 'up', 'land', 'swelling', 'above', 'each', 'other', 'while', 'over', 'the', 'whole', 'the', 'purple', 'mists', 'of', 'spring', 'diffused', 'a', 'hue', 'of', 'soft', 'just', 'before', 'them', 'the', 'grand', 'course', 'of', 'the', 'stream', 'making', 'a', 'sudden', 'bend', 'wound', 'among', 'and', 'shores', 'of', 'that', 'seemed', 'to', 'melt', 'into', 'the', 'wave', 'a', 'character', 'of', 'gentleness', 'and', 'mild', 'prevailed', 'around', 'the', 'sun', 'had', 'just', 'descended', 'and', 'the', 'thin', 'haze', 'of', 'twilight', 'like', 'a', 'transparent', 'veil', 'drawn', 'over', 'the', 'bosom', 'of', 'virgin', 'beauty', 'heightened', 'the', 'charms', 'which', 'it', 'half', 'concealed', 'ah', 'scenes', 'of', 'foul', 'delusion', 'ah', 'hi', 'â', 'less', 'gazing', 'with', 'simple', 'wonder', 'on', 'these', 'shores', 'such', 'alas', 'are', 'they', 'poor', 'easy', 'souls', 'who', 'listen', 'to', 'the', 'of', 'a', 'wicked', 'world', 'â', 'treacherous', 'are', 'its', 'smiles', 'fatal', 'its', 'cares', 'he', 'who', 'to', 'its', 'upon', 'a', 'tide', 'and', 'his', 'feeble', 'bark', 'among', 'the', 'of', 'a', 'and', 'thus', 'it', 'with', 'the', 'of', 'who', 'little', 'the', 'scene', 'before', 'them', 'drifted', 'quietly', 'on', 'until', 'they', 'were', 'aroused', 'by', 'an', 'uncommon', 'tossing', 'and', 'agitation', 'of', 'their', 'vessels', 'for', 'now', 'the', 'late', 'current', 'began', 'to', 'around', 'them', 'and', 'the', 'waves', 'to', 'boil', 'and', 'foam', 'fury', 'awakened', 'as', 'if', 'from', 'a', 'dream', 'the', 'by', 'new', 'york', 'x', 'astonished', 'aloud', 'to', 'put', 'about', 'but', 'his', 'words', 'were', 'lost', 'amid', 'the', 'roaring', 'of', 'the', 'waters', 'and', 'now', 'ensued', 'a', 'scene', 'of', 'consternation', 'â', 'at', 'one', 'time', 'they', 'were', 'borne', 'with', 'dreadful', 'among', 'tumultuous', 'at', 'another', 'hurried', 'down', 'boisterous', 'now', 'they', 'were', 'dashed', 'upon', 'the', 'hen', 'and', 'chickens', 'infamous', 'rocks', 'â', 'more', 'than', 'and', 'her', 'and', 'anon', 'they', 'seemed', 'sinking', 'into', 'yawning', 'that', 'threatened', 'to', 'them', 'beneath', 'the', 'waves', 'all', 'the', 'elements', 'combined', 'to', 'produce', 'a', 'hideous', 'confusion', 'the', 'waters', 'raged', 'â', 'the', 'winds', 'howled', 'â', 'and', 'as', 'they', 'were', 'hurried', 'along', 'several', 'of', 'the', 'astonished', 'beheld', 'the', 'rocks', 'and', 'trees', 'of', 'the', 'neighbouring', 'shores', 'driving', 'through', 'the', 'air', 'at', 'length', 'the', 'mighty', 'tub', 'of', 'van', 'was', 'drawn', 'into', 'the', 'of', 'that', 'tremendous', 'called', 'the', 'pot', 'where', 'it', 'was', 'whirled', 'about', 'in', 'giddy', 'until', 'the', 'senses', 'of', 'the', 'good', 'commander', 'and', 'his', 'crew', 'were', 'overpowered', 'by', 'the', 'horror', 'of', 'the', 'scene', 'and', 'the', 'strangeness', 'of', 'the', 'revolution', 'how', 'the', 'gallant', 'of', 'was', 'snatched', 'from', 'the', 'jaws', 'of', 'this', 'modern', 'has', 'never', 'been', 'truly', 'made', 'known', 'for', 'so', 'many', 'survived', 'to', 'tell', 'the', 'and', 'what', 'is', 'still', 'more', 'wonder', 'told', 'it', 'in', 'so', 'many', 'different', 'ways', 'that', 'there', 'has', 'ever', 'prevailed', 'a', 'variety', 'of', 'opinions', 'on', 'e', 'subject', 'by', 'history', 'of', 'as', 'to', 'tbe', 'and', 'his', 'crew', 'when', 'they', 'came', 'to', 'their', 'senses', 'they', 'found', 'themselves', 'strand', 'ed', 'on', 'the', 'long', 'island', 'shore', 'the', 'worthy', 'indeed', 'used', 'to', 'relate', 'many', 'and', 'wonderful', 'stories', 'of', 'his', 'adventures', 'in', 'this', 'time', 'of', 'peril', 'how', 'that', 'he', 'saw', 'flying', 'in', 'the', 'air', 'and', 'heard', 'the', 'yelling', 'of', 'and', 'put', 'his', 'hand', 'into', 'the', 'pot', 'when', 'they', 'were', 'whirled', 'around', 'and', 'found', 'the', 'water', 'hot', 'and', 'beheld', 'several', 'uncouth', 'looking', 'beings', 'seated', 'on', 'rocks', 'and', 'it', 'with', 'huge', 'â', 'but', 'particularly', 'he', 'declared', 'with', 'great', 'exultation', 'that', 'he', 'saw', 'the', 'which', 'had', 'betrayed', 'them', 'into', 'this', 'peril', 'some', 'on', 'the', 'and', 'others', 'in', 'these', 'however', 'were', 'considered', 'by', 'many', 'as', 'mere', 'of', 'the', 's', 'imagination', 'while', 'he', 'lay', 'in', 'a', 'trance', 'especially', 'as', 'he', 'was', 'known', 'to', 'be', 'given', 'to', 'dreaming', 'and', 'the', 'truth', 'of', 'them', 'has', 'never', 'been', 'clearly', 'ascertained', 'it', 'is', 'certain', 'however', 'that', 'to', 'the', 'accounts', 'of', 'and', 'his', 'followers', 'may', 'be', 'traced', 'the', 'various', 'traditions', 'handed', 'down', 'of', 'this', 'marvellous', 'as', 'how', 'the', 'devil', 'has', 'been', 'seen', 'there', 'sitting', 'of', 'the', 's', 'back', 'and', 'playing', 'on', 'the', 'fiddle', 'â', 'how', 'he', 'fish', 'there', 'before', 'a', 'many', 'other', 'stories', 'in', 'which', 'we', 'must', 'be', 'cautious', 'of', 'putting', 'too', 'much', 'faith', 'in', 'consequence', 'of', 'all', 'these', 'terrific', 'circumstances', 'the', 'commander', 'gave', 'this', 'pass', 'the', 'name', 'of', 'or', 'as', 'it', 'has', 'been', 'by', 'new', 'york', 'interpreted', 'gate', 'which', 'it', 'continues', 'to', 'bear', 'at', 'the', 'present', 'day', 'this', 'is', 'a', 'narrow', 'strait', 'in', 'the', 'sound', 'at', 'the', 'distance', 'of', 'six', 'miles', 'new', 'york', 'it', 'is', 'dangerous', 'to', 'shipping', 'unless', 'under', 'the', 'care', 'of', 'skilful', 'by', 'reason', 'of', 'numerous', 'rocks', 'and', 'these', 'have', 'sundry', 'such', 'as', 's', 'back', 'pot', 'and', 'are', 'very', 'violent', 'and', 'turbulent', 'at', 'certain', 'times', 'of', 'tide', 'certain', 'wise', 'men', 'who', 'instruct', 'these', 'modern', 'da', 'have', 'softened', 'the', 'above', 'characteristic', 'name', 'into', 'which', 'means', 'nothing', 'i', 'leave', 'them', 'to', 'give', 'their', 'own', 'the', 'name', 'as', 'given', 'by', 'our', 'author', 'is', 'sup', 'by', 'the', 'map', 'in', 's', 'history', 'published', 'in', 'â', 'by', 's', 'of', 'america', 'â', 'as', 'also', 'by', 'a', 'still', 'written', 'in', 'the', 'century', 'and', 'to', 'be', 'found', 'in', 's', 'state', 'papers', 'and', 'an', 'old', 'ms', 'written', 'in', 'french', 'speaking', 'of', 'various', 'alterations', 'in', 'names', 'about', ',6']\n"
     ]
    }
   ],
   "source": [
    "with open('training.txt', 'r') as fin:\n",
    "    data = fin.read().splitlines()\n",
    "\n",
    "print(len(data))\n",
    "for x in range (1000):data[100].split(' '))"
   ]
  },
  {
   "cell_type": "code",
   "execution_count": null,
   "metadata": {},
   "outputs": [],
   "source": []
  }
 ],
 "metadata": {
  "kernelspec": {
   "display_name": "Python 3",
   "language": "python",
   "name": "python3"
  },
  "language_info": {
   "codemirror_mode": {
    "name": "ipython",
    "version": 3
   },
   "file_extension": ".py",
   "mimetype": "text/x-python",
   "name": "python",
   "nbconvert_exporter": "python",
   "pygments_lexer": "ipython3",
   "version": "3.7.4"
  }
 },
 "nbformat": 4,
 "nbformat_minor": 4
}
