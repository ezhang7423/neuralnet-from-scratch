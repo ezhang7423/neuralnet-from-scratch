{
 "cells": [
  {
   "cell_type": "code",
   "execution_count": 15,
   "metadata": {},
   "outputs": [],
   "source": [
    "import numpy as np\n",
    "import json\n",
    "import math\n",
    "train = np.load('feats.npy')\n",
    "train_labels = np.load('labels.npy')\n",
    "np.random.seed(42)\n",
    "theta = np.random.rand(15, 10000)"
   ]
  },
  {
   "cell_type": "code",
   "execution_count": 2,
   "metadata": {},
   "outputs": [],
   "source": [
    "def softmax(x):\n",
    "    \"\"\"Compute softmax values for each sets of scores in x.\"\"\"\n",
    "    e_x = np.exp(x - np.max(x))\n",
    "    return e_x / e_x.sum()\n",
    "\n",
    "def inference(theta, feats):\n",
    "    \"\"\"make a prediction given a vector of features\"\"\"\n",
    "    eY = softmax(np.matmul(theta, feats))\n",
    "    return eY\n",
    "    "
   ]
  },
  {
   "cell_type": "code",
   "execution_count": 3,
   "metadata": {},
   "outputs": [],
   "source": [
    "def updatedPredictionMatrix(inference, label, feats):\n",
    "    \"\"\"creates matrix for updating theta based off of gradient of softmax + cross/entropy\"\"\"\n",
    "    inference[int(label)-1] = 1 - inference[int(label)-1]\n",
    "    return -5 * np.matmul(inference.reshape(len(inference), 1), np.column_stack(feats))\n",
    "\n",
    "def printLoss(inference, label):\n",
    "    \"\"\"print cross entropy loss, assuming actual y is one hot encoded\"\"\"\n",
    "    loss = -math.log(inference[int(label)-1])\n",
    "    print('Loss:', loss)\n",
    "    \n",
    "def loss(inference, label):\n",
    "    \"\"\"return cross entropy loss, assuming actual y is one hot encoded\"\"\"\n",
    "    try:\n",
    "        ans = -math.log(inference[int(label)-1])\n",
    "        return ans\n",
    "    except ValueError:\n",
    "        return 0\n",
    "\n",
    "def evalLoss(theta, train, label):\n",
    "    avgloss = 0\n",
    "    for x in range(len(train)):\n",
    "        los = loss(softmax(inference(theta, train[x])), label[x])\n",
    "#         pred = softmax(inference(theta, train[x]))\n",
    "        avgloss += los\n",
    "#         if (los > 3):\n",
    "#             print(los)\n",
    "#             qualitative(x, theta, train, label)\n",
    "    return avgloss / len(train)\n",
    "\n",
    "def evalAccuracy(theta, train, label):\n",
    "    correct = 0\n",
    "    for x in range(len(train)):\n",
    "        pred = np.argmax(softmax(inference(theta, train[x])))\n",
    "        if (pred == int(label[x])):\n",
    "            correct += 1\n",
    "    return round(correct / len(train), 4)"
   ]
  },
  {
   "cell_type": "code",
   "execution_count": 4,
   "metadata": {},
   "outputs": [],
   "source": [
    "def full_gradient_descent(theta, labels, train):\n",
    "    N = len(train)\n",
    "    updateM = np.zeros((15, 10000))\n",
    "    print(\"Beginning \", end = '')\n",
    "    y = np.linalg.norm(theta)\n",
    "    print(evalTrain(theta, train, labels))\n",
    "    for x in range(len(train)):\n",
    "        expY = inference(theta, train[x])\n",
    "        update = updatedPredictionMatrix(expY, labels[x], train[x])\n",
    "        if ( x % 1000 == 0):\n",
    "            print('Step', str(x)+'/'+str(N)+'  ')\n",
    "        update = np.add(update, updateM)\n",
    "    theta = np.add(theta, update)\n",
    "    print(\"End \", end='')\n",
    "    print(evalTrain(theta, train, labels))\n",
    "    return theta"
   ]
  },
  {
   "cell_type": "code",
   "execution_count": 5,
   "metadata": {},
   "outputs": [],
   "source": [
    "# for x in range(10):\n",
    "#     print(\"epoch\", x)\n",
    "#     theta = full_gradient_descent(theta, train_labels, train)"
   ]
  },
  {
   "cell_type": "code",
   "execution_count": 6,
   "metadata": {},
   "outputs": [],
   "source": [
    "\n",
    "def stochastic_descent(theta, labels, train):\n",
    "    N = len(train)\n",
    "    updateM = np.zeros((15, 10000))\n",
    "    y = np.linalg.norm(theta)\n",
    "    for x in range(100):\n",
    "        randSample = np.random.randint(0, train.shape[0])\n",
    "        expY = inference(theta, train[randSample]) #correct?\n",
    "        update = updatedPredictionMatrix(expY, labels[x], train[randSample])\n",
    "#             print('Step', str(x)+'/'+str(N)+'  ')\n",
    "        update = np.add(update, updateM)\n",
    "    theta = np.add(theta, update)\n",
    "    print(\"Loss: \", end='')\n",
    "    print(evalLoss(theta, train, labels))\n",
    "    print('Accuracy: ', str(evalAccuracy(theta, train, labels))+'%')\n",
    "    return theta\n",
    "\n",
    "        "
   ]
  },
  {
   "cell_type": "code",
   "execution_count": 12,
   "metadata": {},
   "outputs": [
    {
     "name": "stdout",
     "output_type": "stream",
     "text": [
      "Beginning Loss: 2.715930227582408\n",
      "Beginning epoch 0\n",
      "\n",
      "Loss: 2.721160163797172\n",
      "Accuracy:  0.062%\n",
      "\n",
      "Beginning epoch 1\n",
      "\n",
      "Loss: 2.7388231008936104\n",
      "Accuracy:  0.069%\n",
      "\n",
      "Beginning epoch 2\n",
      "\n",
      "Loss: 2.7278051753457477\n",
      "Accuracy:  0.0597%\n",
      "\n",
      "Beginning epoch 3\n",
      "\n",
      "Loss: 2.718367081363263\n",
      "Accuracy:  0.046%\n",
      "\n",
      "Beginning epoch 4\n",
      "\n",
      "Loss: 2.728201500486142\n",
      "Accuracy:  0.05%\n",
      "\n",
      "Beginning epoch 5\n",
      "\n",
      "Loss: 2.7142496823160056\n",
      "Accuracy:  0.0417%\n",
      "\n",
      "Beginning epoch 6\n",
      "\n",
      "Loss: 2.7228029554452786\n",
      "Accuracy:  0.0407%\n",
      "\n",
      "Beginning epoch 7\n",
      "\n",
      "Loss: 2.723886766647392\n",
      "Accuracy:  0.0327%\n",
      "\n",
      "Beginning epoch 8\n",
      "\n",
      "Loss: 2.7124039521952876\n",
      "Accuracy:  0.0277%\n",
      "\n",
      "Beginning epoch 9\n",
      "\n",
      "Loss: 2.7063494450094456\n",
      "Accuracy:  0.0467%\n",
      "\n"
     ]
    }
   ],
   "source": [
    "print(\"Beginning Loss: \", end = '')\n",
    "print(evalLoss(theta, train, train_labels))\n",
    "for x in range(10):\n",
    "    print(\"Beginning epoch\", x, end = '\\n\\n')\n",
    "    theta = stochastic_descent(theta, train_labels, train)\n",
    "    print()"
   ]
  },
  {
   "cell_type": "code",
   "execution_count": 8,
   "metadata": {},
   "outputs": [],
   "source": [
    "def qualitative(y, theta, train, labels):\n",
    "    pred = softmax(inference(theta, train[y]))\n",
    "    for i, x in enumerate(pred):\n",
    "        print(i+1, x)\n",
    "    print('prediction:', np.argmax(pred)+1)\n",
    "    print('actual:', int(labels[y]))\n",
    "    print('loss:', loss(pred, labels[y]))"
   ]
  },
  {
   "cell_type": "code",
   "execution_count": 35,
   "metadata": {},
   "outputs": [
    {
     "data": {
      "text/plain": [
       "array([0.01416432, 0.0051974 , 0.00449775, ..., 0.        , 0.        ,\n",
       "       0.        ])"
      ]
     },
     "execution_count": 35,
     "metadata": {},
     "output_type": "execute_result"
    }
   ],
   "source": [
    "\n"
   ]
  },
  {
   "cell_type": "code",
   "execution_count": 27,
   "metadata": {},
   "outputs": [
    {
     "name": "stdout",
     "output_type": "stream",
     "text": [
      "1.4164321034889724\n"
     ]
    }
   ],
   "source": [
    "with open('data/training.txt', 'r') as fin:\n",
    "    x = fin.read().splitlines()\n",
    "a = x[0].split(' ')\n",
    "noThe = 0\n",
    "for x in range(len(a)-1):\n",
    "    if a[x] == 'the':\n",
    "        noThe += 1\n",
    "print(noThe/len(a)*math.log(3000/2995)*10000)\n"
   ]
  },
  {
   "cell_type": "code",
   "execution_count": 48,
   "metadata": {},
   "outputs": [
    {
     "data": {
      "image/png": "[encoded data removed]",
      "text/plain": [
       "<Figure size 432x288 with 1 Axes>"
      ]
     },
     "metadata": {
      "needs_background": "light"
     },
     "output_type": "display_data"
    }
   ],
   "source": [
    "import matplotlib.pyplot as plt\n",
    "x = np.reshape(train, train.shape[0]*train.shape[1])\n",
    "plt.hist(x, bins = 100, range=[0, .6])\n",
    "plt.yscale('log')\n",
    "plt.show()"
   ]
  },
  {
   "cell_type": "code",
   "execution_count": 51,
   "metadata": {},
   "outputs": [
    {
     "data": {
      "image/png": "[encoded data removed]",
      "text/plain": [
       "<Figure size 432x288 with 1 Axes>"
      ]
     },
     "metadata": {
      "needs_background": "light"
     },
     "output_type": "display_data"
    }
   ],
   "source": [
    "x = np.reshape(train, train.shape[0]*train.shape[1])\n",
    "plt.hist(x, bins = 100, range=[0, 45])\n",
    "plt.yscale('log')\n",
    "plt.show()"
   ]
  },
  {
   "cell_type": "code",
   "execution_count": null,
   "metadata": {},
   "outputs": [],
   "source": []
  }
 ],
 "metadata": {
  "kernelspec": {
   "display_name": "Python 3",
   "language": "python",
   "name": "python3"
  },
  "language_info": {
   "codemirror_mode": {
    "name": "ipython",
    "version": 3
   },
   "file_extension": ".py",
   "mimetype": "text/x-python",
   "name": "python",
   "nbconvert_exporter": "python",
   "pygments_lexer": "ipython3",
   "version": "3.8.2"
  }
 },
 "nbformat": 4,
 "nbformat_minor": 4
}
