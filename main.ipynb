{
 "cells": [
  {
   "cell_type": "code",
   "execution_count": 39,
   "metadata": {},
   "outputs": [],
   "source": [
    "import numpy as np\n",
    "import json\n",
    "import math\n",
    "train = np.load('feats.npy')\n",
    "train_labels = np.load('labels.npy')\n",
    "np.random.seed(42)\n",
    "theta = np.random.rand(15, 10000)"
   ]
  },
  {
   "cell_type": "code",
   "execution_count": 40,
   "metadata": {},
   "outputs": [],
   "source": [
    "def softmax(x):\n",
    "    \"\"\"Compute softmax values for each sets of scores in x.\"\"\"\n",
    "    e_x = np.exp(x - np.max(x))\n",
    "    return e_x / e_x.sum()\n",
    "\n",
    "def inference(theta, feats):\n",
    "    \"\"\"make a prediction given a vector of features\"\"\"\n",
    "    eY = softmax(np.matmul(theta, feats))\n",
    "    return eY\n",
    "    "
   ]
  },
  {
   "cell_type": "code",
   "execution_count": 170,
   "metadata": {},
   "outputs": [],
   "source": [
    "def updatedPredictionMatrix(inference, label, feats):\n",
    "    \"\"\"creates matrix for updating theta based off of gradient of softmax + cross/entropy\"\"\"\n",
    "    inference[int(label)-1] = 1 - inference[int(label)-1]\n",
    "    return -5 * np.matmul(inference.reshape(len(inference), 1), np.column_stack(feats))\n",
    "\n",
    "def printLoss(inference, label):\n",
    "    \"\"\"print cross entropy loss, assuming actual y is one hot encoded\"\"\"\n",
    "    loss = -math.log(inference[int(label)-1])\n",
    "    print('Loss:', loss)\n",
    "    \n",
    "def loss(inference, label):\n",
    "    \"\"\"return cross entropy loss, assuming actual y is one hot encoded\"\"\"\n",
    "    try:\n",
    "        ans = -math.log(inference[int(label)-1])\n",
    "        return ans\n",
    "    except ValueError:\n",
    "        return 0\n",
    "\n",
    "def evalLoss(theta, train, label):\n",
    "    avgloss = 0\n",
    "    for x in range(len(train)):\n",
    "        los = loss(softmax(inference(theta, train[x])), label[x])\n",
    "#         pred = softmax(inference(theta, train[x]))\n",
    "        avgloss += los\n",
    "#         if (los > 3):\n",
    "#             print(los)\n",
    "#             qualitative(x, theta, train, label)\n",
    "    return avgloss / len(train)\n",
    "\n",
    "def evalAccuracy(theta, train, label):\n",
    "    correct = 0\n",
    "    for x in range(len(train)):\n",
    "        pred = np.argmax(softmax(inference(theta, train[x])))\n",
    "        if (pred == int(label[x])):\n",
    "            correct += 1\n",
    "    return round(correct / len(train), 4)"
   ]
  },
  {
   "cell_type": "code",
   "execution_count": 42,
   "metadata": {
    "jupyter": {
     "source_hidden": true
    }
   },
   "outputs": [],
   "source": [
    "def full_gradient_descent(theta, labels, train):\n",
    "    N = len(train)\n",
    "    updateM = np.zeros((15, 10000))\n",
    "    print(\"Beginning \", end = '')\n",
    "    y = np.linalg.norm(theta)\n",
    "    print(evalTrain(theta, train, labels))\n",
    "    for x in range(len(train)):\n",
    "        expY = inference(theta, train[x])\n",
    "        update = updatedPredictionMatrix(expY, labels[x], train[x])\n",
    "        if ( x % 1000 == 0):\n",
    "            print('Step', str(x)+'/'+str(N)+'  ')\n",
    "        update = np.add(update, updateM)\n",
    "    theta = np.add(theta, update)\n",
    "    print(\"End \", end='')\n",
    "    print(evalTrain(theta, train, labels))\n",
    "    return theta"
   ]
  },
  {
   "cell_type": "code",
   "execution_count": 43,
   "metadata": {
    "jupyter": {
     "source_hidden": true
    }
   },
   "outputs": [],
   "source": [
    "# for x in range(10):\n",
    "#     print(\"epoch\", x)\n",
    "#     theta = full_gradient_descent(theta, train_labels, train)"
   ]
  },
  {
   "cell_type": "code",
   "execution_count": 46,
   "metadata": {
    "jupyter": {
     "source_hidden": true
    }
   },
   "outputs": [],
   "source": [
    "\n",
    "def stochastic_descent(theta, labels, train):\n",
    "    N = len(train)\n",
    "    updateM = np.zeros((15, 10000))\n",
    "    print(\"Beginning \", end = '')\n",
    "    y = np.linalg.norm(theta)\n",
    "    print(evalTrain(theta, train, labels))\n",
    "    for x in range(100):\n",
    "        randSample = np.random.randint(0, train.shape[0])\n",
    "        expY = inference(theta, train[randSample]) #correct?\n",
    "        update = updatedPredictionMatrix(expY, labels[x], train[randSample])\n",
    "#             print('Step', str(x)+'/'+str(N)+'  ')\n",
    "        update = np.add(update, updateM)\n",
    "    theta = np.add(theta, update)\n",
    "    print(\"End \", end='')\n",
    "    print(evalTrain(theta, train, labels))\n",
    "    return theta\n",
    "\n",
    "        "
   ]
  },
  {
   "cell_type": "code",
   "execution_count": 47,
   "metadata": {
    "collapsed": true,
    "jupyter": {
     "outputs_hidden": true,
     "source_hidden": true
    }
   },
   "outputs": [
    {
     "name": "stdout",
     "output_type": "stream",
     "text": [
      "epoch 0\n",
      "Beginning 4.635560278237862\n",
      "End 4.669114594527819\n",
      "epoch 1\n",
      "Beginning 4.669114594527819\n",
      "End 7.474797289016692\n",
      "epoch 2\n",
      "Beginning 7.474797289016692\n",
      "End 8.463335967671588\n",
      "epoch 3\n",
      "Beginning 8.463335967671588\n",
      "End 8.995736346706616\n",
      "epoch 4\n",
      "Beginning 8.995736346706616\n",
      "End 9.358861022636177\n",
      "epoch 5\n",
      "Beginning 9.358861022636177\n",
      "End 9.940454468685063\n",
      "epoch 6\n",
      "Beginning 9.940454468685063\n",
      "End 10.447333573063773\n",
      "epoch 7\n",
      "Beginning 10.447333573063773\n",
      "End 11.145020996438928\n",
      "epoch 8\n",
      "Beginning 11.145020996438928\n",
      "End 11.781051237395792\n",
      "epoch 9\n",
      "Beginning 11.781051237395792\n",
      "End 11.697709538105803\n"
     ]
    }
   ],
   "source": [
    "for x in range(10):\n",
    "    print(\"epoch\", x)\n",
    "    theta = stochastic_descent(theta, train_labels, train)"
   ]
  },
  {
   "cell_type": "code",
   "execution_count": 144,
   "metadata": {},
   "outputs": [],
   "source": [
    "def qualitative(y, theta, train, labels):\n",
    "    pred = softmax(inference(theta, train[y]))\n",
    "    for i, x in enumerate(pred):\n",
    "        print(i+1, x)\n",
    "    print('prediction:', np.argmax(pred)+1)\n",
    "    print('actual:', int(labels[y]))\n",
    "    print('loss:', loss(pred, labels[y]))"
   ]
  },
  {
   "cell_type": "code",
   "execution_count": 171,
   "metadata": {},
   "outputs": [
    {
     "data": {
      "text/plain": [
       "0.05"
      ]
     },
     "execution_count": 171,
     "metadata": {},
     "output_type": "execute_result"
    }
   ],
   "source": [
    "evalAccuracy(theta, train, train_labels)"
   ]
  },
  {
   "cell_type": "code",
   "execution_count": 74,
   "metadata": {},
   "outputs": [
    {
     "name": "stdout",
     "output_type": "stream",
     "text": [
      "working\n"
     ]
    }
   ],
   "source": []
  },
  {
   "cell_type": "code",
   "execution_count": 72,
   "metadata": {},
   "outputs": [
    {
     "data": {
      "text/plain": [
       "13"
      ]
     },
     "execution_count": 72,
     "metadata": {},
     "output_type": "execute_result"
    }
   ],
   "source": [
    "int(data[0].split(' ')[-1][1:])"
   ]
  },
  {
   "cell_type": "code",
   "execution_count": null,
   "metadata": {},
   "outputs": [],
   "source": []
  }
 ],
 "metadata": {
  "kernelspec": {
   "display_name": "Python 3",
   "language": "python",
   "name": "python3"
  },
  "language_info": {
   "codemirror_mode": {
    "name": "ipython",
    "version": 3
   },
   "file_extension": ".py",
   "mimetype": "text/x-python",
   "name": "python",
   "nbconvert_exporter": "python",
   "pygments_lexer": "ipython3",
   "version": "3.8.2"
  }
 },
 "nbformat": 4,
 "nbformat_minor": 4
}
