{
 "cells": [
  {
   "cell_type": "code",
   "execution_count": 2,
   "metadata": {},
   "outputs": [],
   "source": [
    "import numpy as np\n",
    "import json"
   ]
  },
  {
   "cell_type": "code",
   "execution_count": 3,
   "metadata": {},
   "outputs": [],
   "source": [
    "with open('appearances_in_doc.txt', 'r') as fin:\n",
    "    oc = json.loads(fin.read())"
   ]
  },
  {
   "cell_type": "code",
   "execution_count": 9,
   "metadata": {},
   "outputs": [],
   "source": [
    "def amtofWords(word):\n",
    "    thecounter = 0\n",
    "    for x in oc.keys():\n",
    "        try:\n",
    "            thecounter += oc[x][word]\n",
    "        except:\n",
    "            pass\n",
    "    return thecounter"
   ]
  },
  {
   "cell_type": "code",
   "execution_count": 13,
   "metadata": {},
   "outputs": [
    {
     "data": {
      "text/plain": [
       "29"
      ]
     },
     "execution_count": 13,
     "metadata": {},
     "output_type": "execute_result"
    }
   ],
   "source": [
    "amtofWords(\"languid\")"
   ]
  },
  {
   "cell_type": "code",
   "execution_count": 14,
   "metadata": {},
   "outputs": [],
   "source": [
    "with open('training.txt', 'r') as data:\n",
    "            lines = data.read().splitlines() "
   ]
  },
  {
   "cell_type": "code",
   "execution_count": 15,
   "metadata": {},
   "outputs": [
    {
     "data": {
      "text/plain": [
       "'it brought the top of thÃ¢ chestnut in distinct relief upon the faintly illuminated sky the motion of the upper leaves betrayed to ben the position of the prey and in an instant he swung himself up to the first bough and proceeded upward i see the here in the of one of the branches he exclaimed to us as he hurried onward look out below the terrified animal on finding his about to his place of safety speedily abandoned it and we could distinctly hear him making his way to the remote extremity of the limb as soon as he had gained this point he became visible to us all clinging like an that had grown to the slender twigs which sustained him ben followed as near as he venture with his heavy bulk and began to whip the bough up and down with a vehement motion that flung the animal about through the air like a ball on the end of a rod still however the way laid kept his hold with a desperate during this operation the dogs as if engrossed with the contemplation of the success of the experiment had ceased their din and at intervals only with impatience Ã¢ he can never stand that said as if involuntarily speaking hie thoughts look out he is falling no he has saved himself again instead of coming to the ground the animal when forced at last to abandon the limb only dropped to a lower elevation where he caught himself again amongst the foliage in a position apparently more secure than the first the dogs sprang forward as if expecting to receive him on the earth and with the motion uttered one loud and cry Ã¢ their disappointment was evinced in an eager and impressive silence the set up a shout of laughter and one of them ejaculated with an merriment Ã¢ not going to get from top of tree at one jump know he come down stairs presently terrible for Ã¢ his tail as good as his hand Ã¢ oh oh ben now called out to know how far he had dropped and being informed was immediately busy in the endeavor to reach the quarter indicated a repetition of the same that had been employed above produced the same result and the descended still lower making good his with a grasp instinctively but now rendered more sure by the fate that threatened him below this brought him within fifteen feet of the jaws of his enemies the frantic howl and that burst from dog man and boy when the object of their pursuit thus became distinctly visible and their continued Ã¢ breaking upon the air with a wild romantic fury Ã¢ were echoed through the lonely forest at this unwonted hour like some or mystic of fantastic import as they have been sometimes fancied in the world of fiction to picture the of a grotesque superstition the pack of dogs was concentrated upon one spot with heads erect and open mouths awaiting the inevitable descent of their victim into the midst of their array ben in his aim had already arrived at the of the main branch of the tree with the trunk and there ui in the general uproar hazard now interposed and com silence and then directed the people to the dogs as his object was to take the game alive this order was obeyed but not without difficulty and after a short delay every dog was fast in hand we took time at this juncture to pause at ned s suggestion wilful was lifted up by one of the with the assistance of ben to the first bough which being stout enough to give the dog practised in such exploits a though not the most secure he was here encouraged at this perilous elevation to renew the assault wilful crept upon his breast close to the limb until he reached that point where it began to arch downward and from whence it was no longer possible for him to creep farther during this endeavor he remained mute as if all his attention to the safe accomplishment of his purpose but as soon as he gained the point above mentioned he barking with earnestness the began now to prepare himself for his last desperate effort an active enemy in his rear had cut off his retreat and his further advance was impossible without plunging into the grasp of his as if unwilling to meet the doom and anxious to make the most of the brief remnant of his minutes Ã¢ showing how acceptable is life in its most wretched Ã¢ the devoted still refused the horrid leap but his fore feet swung downward from the bough holding fast by his hind legs and tail Ã¢ the latter being with a strong power and ordinarily used in this action here he exhibited the first signs of and now snapped and towards the crowd below showing his long sharp teeth with a that contrasted singularly with the timidity of his previous behavior in one instant more wilful as if no longer able to restrain his impatience or perhaps desirous to himself by a feat of bravery made one spring forward into the midst of the foliage that hung around his prey and came to the bringing with him the baffled subject of all this eager pursuit Ã¢ ned seized wilful in the same moment that he reached the earth and thus him from a wound upon his the instead of a fruitless effort to escape lay on the turf to all appearance dead one or two of those who stood around struck Ã¢ him with their feet but faithful to the wonderful instinct of his nature he gave no signs of animation and when hazard picked him up by the tail and held him suspended at arm s length with the dogs around him the of death was still preserved more with a view to exhibit ,10'"
      ]
     },
     "execution_count": 15,
     "metadata": {},
     "output_type": "execute_result"
    }
   ],
   "source": [
    "lines[2999]"
   ]
  },
  {
   "cell_type": "code",
   "execution_count": null,
   "metadata": {},
   "outputs": [],
   "source": []
  }
 ],
 "metadata": {
  "kernelspec": {
   "display_name": "Python 3",
   "language": "python",
   "name": "python3"
  },
  "language_info": {
   "codemirror_mode": {
    "name": "ipython",
    "version": 3
   },
   "file_extension": ".py",
   "mimetype": "text/x-python",
   "name": "python",
   "nbconvert_exporter": "python",
   "pygments_lexer": "ipython3",
   "version": "3.7.4"
  }
 },
 "nbformat": 4,
 "nbformat_minor": 4
}
