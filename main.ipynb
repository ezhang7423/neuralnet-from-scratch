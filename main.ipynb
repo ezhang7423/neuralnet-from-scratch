{
 "cells": [
  {
   "cell_type": "code",
   "execution_count": 1,
   "metadata": {},
   "outputs": [],
   "source": [
    "import numpy as np\n",
    "import json\n",
    "import math\n",
    "train = np.load('training.npy')\n",
    "train_labels = np.load('training-labels.npy')\n",
    "np.random.seed(42)\n",
    "CLASSES = 15\n",
    "DIMENSIONS = 10000\n",
    "LEARNINGRATE = 100\n",
    "REGULARIZATION = .1\n",
    "theta = 2 * np.random.rand(CLASSES, DIMENSIONS) - 1"
   ]
  },
  {
   "cell_type": "code",
   "execution_count": 2,
   "metadata": {},
   "outputs": [],
   "source": [
    "\"\"\"helper functions\"\"\"\n",
    "def softmax(x):\n",
    "    \"\"\"Compute softmax values for each sets of scores in x.\"\"\"\n",
    "    e_x = np.exp(x - np.max(x))\n",
    "    return e_x / e_x.sum()\n",
    "\n",
    "def inference(theta, feats):\n",
    "    \"\"\"make a prediction given a vector of features\"\"\"\n",
    "    eY = softmax(np.matmul(theta, feats))\n",
    "    return eY\n",
    "    \n",
    "def gradient(inference, label, feats):\n",
    "    \"\"\"creates matrix for updating theta based off of gradient of softmax + cross/entropy\"\"\"\n",
    "    inference = -1 * inference\n",
    "    inference[int(label)-1] = 1 + inference[int(label)-1]\n",
    "    update = np.matmul(inference.reshape(len(inference), 1), np.column_stack(feats))\n",
    "    return LEARNINGRATE * update\n",
    "\n",
    "def printLoss(inference, label):\n",
    "    \"\"\"print cross entropy loss, assuming actual y is one hot encoded\"\"\"\n",
    "    loss = -math.log(inference[int(label)-1])\n",
    "    print('Loss:', loss)\n",
    "    \n",
    "def loss(inference, label):\n",
    "    \"\"\"return cross entropy loss, assuming actual y is one hot encoded\"\"\"\n",
    "    try:\n",
    "        ans = -math.log(inference[int(label)-1])\n",
    "        return ans\n",
    "    except ValueError:\n",
    "        return 9999\n",
    "\n",
    "def evalLoss(theta, train, label):\n",
    "    avgloss = 0\n",
    "    for x in range(len(train)):\n",
    "        los = loss(softmax(inference(theta, train[x])), label[x])\n",
    "        avgloss += los\n",
    "    return avgloss / len(train)\n",
    "\n",
    "def evalAccuracy(theta, train, label):\n",
    "    correct = 0\n",
    "    for x in range(len(train)):\n",
    "        pred = np.argmax(softmax(inference(theta, train[x])))\n",
    "        if (pred == int(label[x])-1):\n",
    "            correct += 1\n",
    "    return (correct / len(train) * 100)\n",
    "\n",
    "def evalMetrics(theta, train, labels):\n",
    "    norm = np.linalg.norm(theta)\n",
    "    loss = evalLoss(theta, train, labels)\n",
    "    acc = evalAccuracy(theta, train, labels)\n",
    "    print(\"Matrix Norm:\", norm)\n",
    "    print(\"Loss: \", end='')\n",
    "    print(loss)\n",
    "    print('Accuracy: ', str(acc)[:6] +'%')\n",
    "    return (norm, loss, acc)\n",
    "    \n",
    "def qualitative(y, theta, train, labels):\n",
    "    pred = softmax(inference(theta, train[y]))\n",
    "    for i, x in enumerate(pred):\n",
    "        print(i+1, x)\n",
    "    print('prediction:', np.argmax(pred)+1)\n",
    "    print('actual:', int(labels[y]))\n",
    "    print('loss:', loss(pred, labels[y]))"
   ]
  },
  {
   "cell_type": "code",
   "execution_count": 3,
   "metadata": {
    "jupyter": {
     "source_hidden": true
    }
   },
   "outputs": [],
   "source": [
    "def full_gradient_descent(theta, train, labels):\n",
    "    N = len(train)\n",
    "    updateM = np.zeros((CLASSES, DIMENSIONS))\n",
    "    for x in range(len(train)):\n",
    "        expY = inference(theta, train[x])\n",
    "        update = gradient(expY, labels[x], train[x])\n",
    "        if ( x % 1000 == 0):\n",
    "            print('Step', str(x)+'/'+str(N)+'  ')\n",
    "        update = np.add(update, updateM)\n",
    "        \n",
    "    update = np.add(update, -REGULARIZATION * theta)\n",
    "    theta = np.add(theta, update)\n",
    "    print(\"End \", end='')\n",
    "    evalMetrics(theta, train, labels);\n",
    "    return theta\n"
   ]
  },
  {
   "cell_type": "code",
   "execution_count": 4,
   "metadata": {},
   "outputs": [],
   "source": [
    "\n",
    "def stochastic_descent(theta, train, labels):\n",
    "    N = len(train)\n",
    "    updateM = np.zeros((CLASSES, DIMENSIONS))\n",
    "    for x in range(int(len(train)/10)):\n",
    "        randSample = np.random.randint(0, train.shape[0])\n",
    "        expY = inference(theta, train[randSample]) \n",
    "        update = gradient(expY, labels[randSample], train[randSample])\n",
    "        updateM = np.add(update, updateM)\n",
    "        \n",
    "        \n",
    "    updateM = np.add(updateM, -REGULARIZATION * theta)\n",
    "    #regularization to prevent theta from getting too large\n",
    "    theta = np.add(theta, updateM)\n",
    "    return theta\n",
    "\n",
    "        "
   ]
  },
  {
   "cell_type": "code",
   "execution_count": 5,
   "metadata": {},
   "outputs": [],
   "source": [
    "def training(theta, train, train_labels):\n",
    "    print(\"Beginning Metrics: \", end = '')\n",
    "    evalMetrics(theta, train, train_labels)\n",
    "    acc = []\n",
    "    loss = []\n",
    "    norm = []\n",
    "    for x in range(20):\n",
    "        print(\"Beginning epoch\", x, end = '\\n\\n')\n",
    "        theta = stochastic_descent(theta, train, train_labels)\n",
    "        metrics = evalMetrics(theta, train, train_labels)\n",
    "        norm.append(metrics[0])\n",
    "        loss.append(metrics[1])\n",
    "        acc.append(round(metrics[2], 3))\n",
    "        print()\n",
    "    return (norm, acc, loss, theta)"
   ]
  },
  {
   "cell_type": "code",
   "execution_count": 6,
   "metadata": {},
   "outputs": [
    {
     "name": "stdout",
     "output_type": "stream",
     "text": [
      "Beginning Metrics: Matrix Norm: 223.5060331909246\n",
      "Loss: 2.7080139098107967\n",
      "Accuracy:  7.3333%\n",
      "Beginning epoch 0\n",
      "\n",
      "Matrix Norm: 279.0427061008818\n",
      "Loss: 2.6395715563960023\n",
      "Accuracy:  44.266%\n",
      "\n",
      "Beginning epoch 1\n",
      "\n",
      "Matrix Norm: 333.2582481604383\n",
      "Loss: 2.5822265624695633\n",
      "Accuracy:  59.033%\n",
      "\n",
      "Beginning epoch 2\n",
      "\n",
      "Matrix Norm: 375.44767462683615\n",
      "Loss: 2.546567631084354\n",
      "Accuracy:  67.833%\n",
      "\n",
      "Beginning epoch 3\n",
      "\n",
      "Matrix Norm: 411.58929045233293\n",
      "Loss: 2.513655564202681\n",
      "Accuracy:  74.1%\n",
      "\n",
      "Beginning epoch 4\n",
      "\n",
      "Matrix Norm: 441.4656417942082\n",
      "Loss: 2.49097385077143\n",
      "Accuracy:  77.100%\n",
      "\n",
      "Beginning epoch 5\n",
      "\n",
      "Matrix Norm: 465.80442696945806\n",
      "Loss: 2.476941390468201\n",
      "Accuracy:  82.399%\n",
      "\n",
      "Beginning epoch 6\n",
      "\n",
      "Matrix Norm: 485.6523033915317\n",
      "Loss: 2.4596159572418856\n",
      "Accuracy:  83.133%\n",
      "\n",
      "Beginning epoch 7\n",
      "\n",
      "Matrix Norm: 501.9833699961628\n",
      "Loss: 2.4474987131197286\n",
      "Accuracy:  82.166%\n",
      "\n",
      "Beginning epoch 8\n",
      "\n",
      "Matrix Norm: 516.708069614239\n",
      "Loss: 2.433863438213149\n",
      "Accuracy:  83.133%\n",
      "\n",
      "Beginning epoch 9\n",
      "\n",
      "Matrix Norm: 528.5545048429384\n",
      "Loss: 2.4263833049824117\n",
      "Accuracy:  85.866%\n",
      "\n",
      "Beginning epoch 10\n",
      "\n",
      "Matrix Norm: 537.3690109157153\n",
      "Loss: 2.4184543670168854\n",
      "Accuracy:  87.366%\n",
      "\n",
      "Beginning epoch 11\n",
      "\n",
      "Matrix Norm: 546.7527915338384\n",
      "Loss: 2.410490593296121\n",
      "Accuracy:  88.1%\n",
      "\n",
      "Beginning epoch 12\n",
      "\n",
      "Matrix Norm: 552.9594627290601\n",
      "Loss: 2.4133382479145453\n",
      "Accuracy:  89.8%\n",
      "\n",
      "Beginning epoch 13\n",
      "\n",
      "Matrix Norm: 558.8506906899829\n",
      "Loss: 2.405944880977321\n",
      "Accuracy:  89.5%\n",
      "\n",
      "Beginning epoch 14\n",
      "\n",
      "Matrix Norm: 566.1414134055149\n",
      "Loss: 2.3946976005808502\n",
      "Accuracy:  85.6%\n",
      "\n",
      "Beginning epoch 15\n",
      "\n",
      "Matrix Norm: 567.4965039911525\n",
      "Loss: 2.3942978303887656\n",
      "Accuracy:  89.166%\n",
      "\n",
      "Beginning epoch 16\n",
      "\n",
      "Matrix Norm: 571.2095652007628\n",
      "Loss: 2.3878628000788917\n",
      "Accuracy:  87.366%\n",
      "\n",
      "Beginning epoch 17\n",
      "\n",
      "Matrix Norm: 571.9904338320966\n",
      "Loss: 2.39386006093752\n",
      "Accuracy:  91.033%\n",
      "\n",
      "Beginning epoch 18\n",
      "\n",
      "Matrix Norm: 575.6234101538269\n",
      "Loss: 2.3880350852798076\n",
      "Accuracy:  91.433%\n",
      "\n",
      "Beginning epoch 19\n",
      "\n",
      "Matrix Norm: 580.1224189592061\n",
      "Loss: 2.380937508630292\n",
      "Accuracy:  89.233%\n",
      "\n"
     ]
    }
   ],
   "source": [
    "history = training(theta, train, train_labels)"
   ]
  },
  {
   "cell_type": "code",
   "execution_count": 7,
   "metadata": {},
   "outputs": [],
   "source": [
    "norm = history[0]\n",
    "accuracy = history[1]\n",
    "losss = history[2]\n",
    "theta = history[3]\n",
    "timesteps = np.arange(1, 21)"
   ]
  },
  {
   "cell_type": "code",
   "execution_count": 8,
   "metadata": {},
   "outputs": [],
   "source": [
    "import matplotlib.pyplot as plt\n",
    "def pltwrt(data, label): #plot with respect to timestep\n",
    "    plt.plot(timesteps, data, color = '#663399')\n",
    "    plt.xlabel('epochs')\n",
    "    plt.ylabel(label)\n",
    "    plt.xticks(timesteps)\n",
    "    plt.show()"
   ]
  },
  {
   "cell_type": "code",
   "execution_count": 9,
   "metadata": {},
   "outputs": [
    {
     "data": {
      "image/png": "[encoded data removed]",
      "text/plain": [
       "<Figure size 432x288 with 1 Axes>"
      ]
     },
     "metadata": {
      "needs_background": "light"
     },
     "output_type": "display_data"
    },
    {
     "data": {
      "image/png": "[encoded data removed]",
      "text/plain": [
       "<Figure size 432x288 with 1 Axes>"
      ]
     },
     "metadata": {
      "needs_background": "light"
     },
     "output_type": "display_data"
    },
    {
     "data": {
      "image/png": "[encoded data removed]",
      "text/plain": [
       "<Figure size 432x288 with 1 Axes>"
      ]
     },
     "metadata": {
      "needs_background": "light"
     },
     "output_type": "display_data"
    }
   ],
   "source": [
    "pltwrt(norm, 'L2 norm')\n",
    "pltwrt(accuracy, 'accuracy (%)')\n",
    "pltwrt(losss, \"loss (crossy entropy)\")"
   ]
  },
  {
   "cell_type": "code",
   "execution_count": 10,
   "metadata": {},
   "outputs": [
    {
     "data": {
      "image/png": "[encoded data removed]",
      "text/plain": [
       "<Figure size 432x288 with 1 Axes>"
      ]
     },
     "metadata": {
      "needs_background": "light"
     },
     "output_type": "display_data"
    }
   ],
   "source": [
    "x = np.reshape(train, train.shape[0]*train.shape[1])\n",
    "plt.hist(x, bins = 100, range=[0, .6])\n",
    "plt.xlabel('values of training elements')\n",
    "plt.yscale('log')\n",
    "plt.show()"
   ]
  },
  {
   "cell_type": "code",
   "execution_count": 11,
   "metadata": {},
   "outputs": [
    {
     "data": {
      "image/png": "[encoded data removed]",
      "text/plain": [
       "<Figure size 432x288 with 1 Axes>"
      ]
     },
     "metadata": {
      "needs_background": "light"
     },
     "output_type": "display_data"
    }
   ],
   "source": [
    "x = np.reshape(train, train.shape[0]*train.shape[1])\n",
    "plt.hist(x, bins = 100, range=[0, .1])\n",
    "plt.xlabel('values of training elements')\n",
    "plt.yscale('log')\n",
    "plt.show()"
   ]
  },
  {
   "cell_type": "code",
   "execution_count": 28,
   "metadata": {},
   "outputs": [
    {
     "data": {
      "text/plain": [
       "82.8"
      ]
     },
     "execution_count": 28,
     "metadata": {},
     "output_type": "execute_result"
    }
   ],
   "source": [
    "test = np.load('testing.npy')\n",
    "test_labels = np.load('testing-labels.npy')\n",
    "evalAccuracy(theta, test, test_labels)"
   ]
  },
  {
   "cell_type": "code",
   "execution_count": null,
   "metadata": {},
   "outputs": [],
   "source": []
  },
  {
   "cell_type": "code",
   "execution_count": null,
   "metadata": {},
   "outputs": [],
   "source": []
  },
  {
   "cell_type": "code",
   "execution_count": null,
   "metadata": {},
   "outputs": [],
   "source": []
  }
 ],
 "metadata": {
  "kernelspec": {
   "display_name": "Python 3",
   "language": "python",
   "name": "python3"
  },
  "language_info": {
   "codemirror_mode": {
    "name": "ipython",
    "version": 3
   },
   "file_extension": ".py",
   "mimetype": "text/x-python",
   "name": "python",
   "nbconvert_exporter": "python",
   "pygments_lexer": "ipython3",
   "version": "3.8.2"
  }
 },
 "nbformat": 4,
 "nbformat_minor": 4
}
