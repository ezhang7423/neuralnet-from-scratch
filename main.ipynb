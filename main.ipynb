{
 "cells": [
  {
   "cell_type": "code",
   "execution_count": 57,
   "metadata": {},
   "outputs": [],
   "source": [
    "import numpy as np\n",
    "import json\n",
    "import math\n",
    "train = np.load('training.npy')\n",
    "train_labels = np.load('training-labels.npy')\n",
    "np.random.seed(42)\n",
    "CLASSES = 15\n",
    "DIMENSIONS = 10000\n",
    "LEARNINGRATE = 100\n",
    "REGULARIZATION = .1\n",
    "theta = 2 * np.random.rand(CLASSES, DIMENSIONS) - 1"
   ]
  },
  {
   "cell_type": "code",
   "execution_count": 9,
   "metadata": {},
   "outputs": [],
   "source": [
    "\"\"\"helper functions\"\"\"\n",
    "def softmax(x):\n",
    "    \"\"\"Compute softmax values for each sets of scores in x.\"\"\"\n",
    "    e_x = np.exp(x - np.max(x))\n",
    "    return e_x / e_x.sum()\n",
    "\n",
    "def inference(theta, feats):\n",
    "    \"\"\"make a prediction given a vector of features\"\"\"\n",
    "    eY = softmax(np.matmul(theta, feats))\n",
    "    return eY\n",
    "    \n",
    "def gradient(inference, label, feats):\n",
    "    \"\"\"creates matrix for updating theta based off of gradient of softmax + cross/entropy\"\"\"\n",
    "    inference = -1 * inference\n",
    "    inference[int(label)-1] = 1 + inference[int(label)-1]\n",
    "    update = np.matmul(inference.reshape(len(inference), 1), np.column_stack(feats))\n",
    "    return LEARNINGRATE * update\n",
    "\n",
    "def printLoss(inference, label):\n",
    "    \"\"\"print cross entropy loss, assuming actual y is one hot encoded\"\"\"\n",
    "    loss = -math.log(inference[int(label)-1])\n",
    "    print('Loss:', loss)\n",
    "    \n",
    "def loss(inference, label):\n",
    "    \"\"\"return cross entropy loss, assuming actual y is one hot encoded\"\"\"\n",
    "    try:\n",
    "        ans = -math.log(inference[int(label)-1])\n",
    "        return ans\n",
    "    except ValueError:\n",
    "        return 9999\n",
    "\n",
    "def evalLoss(theta, train, label):\n",
    "    avgloss = 0\n",
    "    for x in range(len(train)):\n",
    "        los = loss(softmax(inference(theta, train[x])), label[x])\n",
    "        avgloss += los\n",
    "    return avgloss / len(train)\n",
    "\n",
    "def evalAccuracy(theta, train, label):\n",
    "    correct = 0\n",
    "    for x in range(len(train)):\n",
    "        pred = np.argmax(softmax(inference(theta, train[x])))\n",
    "        if (pred == int(label[x])-1):\n",
    "            correct += 1\n",
    "    return (correct / len(train) * 100)\n",
    "\n",
    "def evalMetrics(theta, train, labels):\n",
    "    norm = np.linalg.norm(theta)\n",
    "    loss = evalLoss(theta, train, labels)\n",
    "    acc = evalAccuracy(theta, train, labels)\n",
    "    print(\"Matrix Norm:\", norm)\n",
    "    print(\"Loss: \", end='')\n",
    "    print(loss)\n",
    "    print('Accuracy: ', str(acc)[:6] +'%')\n",
    "    return (norm, loss, acc)\n",
    "    \n",
    "def qualitative(y, theta, train, labels):\n",
    "    pred = softmax(inference(theta, train[y]))\n",
    "    for i, x in enumerate(pred):\n",
    "        print(i+1, x)\n",
    "    print('prediction:', np.argmax(pred)+1)\n",
    "    print('actual:', int(labels[y]))\n",
    "    print('loss:', loss(pred, labels[y]))"
   ]
  },
  {
   "cell_type": "code",
   "execution_count": 10,
   "metadata": {
    "jupyter": {
     "source_hidden": true
    }
   },
   "outputs": [],
   "source": [
    "def full_gradient_descent(theta, train, labels):\n",
    "    N = len(train)\n",
    "    updateM = np.zeros((CLASSES, DIMENSIONS))\n",
    "    for x in range(len(train)):\n",
    "        expY = inference(theta, train[x])\n",
    "        update = gradient(expY, labels[x], train[x])\n",
    "        if ( x % 1000 == 0):\n",
    "            print('Step', str(x)+'/'+str(N)+'  ')\n",
    "        update = np.add(update, updateM)\n",
    "        \n",
    "    update = np.add(update, -REGULARIZATION * theta)\n",
    "    theta = np.add(theta, update)\n",
    "    print(\"End \", end='')\n",
    "    evalMetrics(theta, train, labels);\n",
    "    return theta\n"
   ]
  },
  {
   "cell_type": "code",
   "execution_count": 11,
   "metadata": {},
   "outputs": [],
   "source": [
    "\n",
    "def stochastic_descent(theta, train, labels):\n",
    "    N = len(train)\n",
    "    updateM = np.zeros((CLASSES, DIMENSIONS))\n",
    "    for x in range(int(len(train)/10)):\n",
    "        randSample = np.random.randint(0, train.shape[0])\n",
    "        expY = inference(theta, train[randSample]) \n",
    "        update = gradient(expY, labels[randSample], train[randSample])\n",
    "        updateM = np.add(update, updateM)\n",
    "        \n",
    "        \n",
    "    updateM = np.add(updateM, -REGULARIZATION * theta)\n",
    "    #regularization to prevent theta from getting too large\n",
    "    theta = np.add(theta, updateM)\n",
    "    return theta\n",
    "\n",
    "        "
   ]
  },
  {
   "cell_type": "code",
   "execution_count": 14,
   "metadata": {},
   "outputs": [],
   "source": [
    "def training(theta, train, train_labels):\n",
    "    print(\"Beginning Metrics: \", end = '')\n",
    "    evalMetrics(theta, train, train_labels)\n",
    "    acc = []\n",
    "    loss = []\n",
    "    norm = []\n",
    "    for x in range(20):\n",
    "        print(\"Beginning epoch\", x, end = '\\n\\n')\n",
    "        theta = stochastic_descent(theta, train, train_labels)\n",
    "        metrics = evalMetrics(theta, train, train_labels)\n",
    "        norm.append(metrics[0])\n",
    "        loss.append(metrics[1])\n",
    "        acc.append(round(metrics[2], 3))\n",
    "        print()\n",
    "    return (norm, acc, loss, theta)"
   ]
  },
  {
   "cell_type": "code",
   "execution_count": 16,
   "metadata": {},
   "outputs": [
    {
     "name": "stdout",
     "output_type": "stream",
     "text": [
      "Beginning Metrics: Matrix Norm: 223.5060331909246\n",
      "Loss: 2.7080139098107967\n",
      "Accuracy:  7.3333%\n",
      "Beginning epoch 0\n",
      "\n",
      "Matrix Norm: 272.4931524547028\n",
      "Loss: 2.644323495800895\n",
      "Accuracy:  50.666%\n",
      "\n",
      "Beginning epoch 1\n",
      "\n",
      "Matrix Norm: 330.87134782311597\n",
      "Loss: 2.582880679428659\n",
      "Accuracy:  56.266%\n",
      "\n",
      "Beginning epoch 2\n",
      "\n",
      "Matrix Norm: 376.35721243330585\n",
      "Loss: 2.545403734125099\n",
      "Accuracy:  67.600%\n",
      "\n",
      "Beginning epoch 3\n",
      "\n",
      "Matrix Norm: 410.746467904132\n",
      "Loss: 2.5141281328599\n",
      "Accuracy:  72.2%\n",
      "\n",
      "Beginning epoch 4\n",
      "\n",
      "Matrix Norm: 443.59541990626735\n",
      "Loss: 2.4932781381115463\n",
      "Accuracy:  76.8%\n",
      "\n",
      "Beginning epoch 5\n",
      "\n",
      "Matrix Norm: 471.1708401650292\n",
      "Loss: 2.471089178278946\n",
      "Accuracy:  81.566%\n",
      "\n",
      "Beginning epoch 6\n",
      "\n",
      "Matrix Norm: 491.304891738616\n",
      "Loss: 2.4503070876737167\n",
      "Accuracy:  79.666%\n",
      "\n",
      "Beginning epoch 7\n",
      "\n",
      "Matrix Norm: 505.6488614951482\n",
      "Loss: 2.440590269090294\n",
      "Accuracy:  80.666%\n",
      "\n",
      "Beginning epoch 8\n",
      "\n",
      "Matrix Norm: 518.8361050473715\n",
      "Loss: 2.429926318519409\n",
      "Accuracy:  82.699%\n",
      "\n",
      "Beginning epoch 9\n",
      "\n",
      "Matrix Norm: 528.3440416530358\n",
      "Loss: 2.4208360381980936\n",
      "Accuracy:  85.1%\n",
      "\n",
      "Beginning epoch 10\n",
      "\n",
      "Matrix Norm: 538.3830346191754\n",
      "Loss: 2.4122078605572908\n",
      "Accuracy:  83.866%\n",
      "\n",
      "Beginning epoch 11\n",
      "\n",
      "Matrix Norm: 544.811940664046\n",
      "Loss: 2.4067732259118686\n",
      "Accuracy:  86.766%\n",
      "\n",
      "Beginning epoch 12\n",
      "\n",
      "Matrix Norm: 549.516266164214\n",
      "Loss: 2.405732499722992\n",
      "Accuracy:  88.433%\n",
      "\n",
      "Beginning epoch 13\n",
      "\n",
      "Matrix Norm: 555.9673723969953\n",
      "Loss: 2.4026545906386274\n",
      "Accuracy:  88.033%\n",
      "\n",
      "Beginning epoch 14\n",
      "\n",
      "Matrix Norm: 559.8291642034304\n",
      "Loss: 2.397796858812954\n",
      "Accuracy:  87.733%\n",
      "\n",
      "Beginning epoch 15\n",
      "\n",
      "Matrix Norm: 561.6199734999279\n",
      "Loss: 2.396823567198403\n",
      "Accuracy:  89.966%\n",
      "\n",
      "Beginning epoch 16\n",
      "\n",
      "Matrix Norm: 567.8447042418518\n",
      "Loss: 2.3937912386775744\n",
      "Accuracy:  90.100%\n",
      "\n",
      "Beginning epoch 17\n",
      "\n",
      "Matrix Norm: 570.4754189422669\n",
      "Loss: 2.3905343597715727\n",
      "Accuracy:  89.4%\n",
      "\n",
      "Beginning epoch 18\n",
      "\n",
      "Matrix Norm: 571.4600466124984\n",
      "Loss: 2.3958723382298297\n",
      "Accuracy:  90.333%\n",
      "\n",
      "Beginning epoch 19\n",
      "\n",
      "Matrix Norm: 574.5956496316379\n",
      "Loss: 2.3889846151748664\n",
      "Accuracy:  89.3%\n",
      "\n"
     ]
    }
   ],
   "source": [
    "history = training(theta, train, train_labels)"
   ]
  },
  {
   "cell_type": "code",
   "execution_count": 29,
   "metadata": {},
   "outputs": [],
   "source": [
    "norm = history[0]\n",
    "accuracy = history[1]\n",
    "losss = history[2]\n",
    "theta = history[3]\n",
    "timesteps = np.arange(1, 21)"
   ]
  },
  {
   "cell_type": "code",
   "execution_count": 55,
   "metadata": {},
   "outputs": [],
   "source": [
    "import matplotlib.pyplot as plt\n",
    "def pltwrt(data, label): #plot with respect to timestep\n",
    "    plt.plot(timesteps, data, color = '#663399')\n",
    "    plt.xlabel('epochs')\n",
    "    plt.ylabel(label)\n",
    "    plt.xticks(timesteps)\n",
    "    plt.show()"
   ]
  },
  {
   "cell_type": "code",
   "execution_count": 56,
   "metadata": {},
   "outputs": [
    {
     "data": {
      "image/png": "[encoded data removed]",
      "text/plain": [
       "<Figure size 432x288 with 1 Axes>"
      ]
     },
     "metadata": {
      "needs_background": "light"
     },
     "output_type": "display_data"
    },
    {
     "data": {
      "image/png": "[encoded data removed]",
      "text/plain": [
       "<Figure size 432x288 with 1 Axes>"
      ]
     },
     "metadata": {
      "needs_background": "light"
     },
     "output_type": "display_data"
    },
    {
     "data": {
      "image/png": "[encoded data removed]",
      "text/plain": [
       "<Figure size 432x288 with 1 Axes>"
      ]
     },
     "metadata": {
      "needs_background": "light"
     },
     "output_type": "display_data"
    }
   ],
   "source": [
    "pltwrt(norm, 'L2 norm')\n",
    "pltwrt(accuracy, 'accuracy (%)')\n",
    "pltwrt(losss, \"loss (crossy entropy)\")"
   ]
  },
  {
   "cell_type": "code",
   "execution_count": 47,
   "metadata": {},
   "outputs": [
    {
     "data": {
      "image/png": "[encoded data removed]",
      "text/plain": [
       "<Figure size 432x288 with 1 Axes>"
      ]
     },
     "metadata": {
      "needs_background": "light"
     },
     "output_type": "display_data"
    }
   ],
   "source": [
    "x = np.reshape(train, train.shape[0]*train.shape[1])\n",
    "plt.hist(x, bins = 100, range=[0, .6])\n",
    "plt.xlabel('values of training elements')\n",
    "plt.yscale('log')\n",
    "plt.show()"
   ]
  },
  {
   "cell_type": "code",
   "execution_count": 48,
   "metadata": {},
   "outputs": [
    {
     "data": {
      "image/png": "[encoded data removed]",
      "text/plain": [
       "<Figure size 432x288 with 1 Axes>"
      ]
     },
     "metadata": {
      "needs_background": "light"
     },
     "output_type": "display_data"
    }
   ],
   "source": [
    "x = np.reshape(train, train.shape[0]*train.shape[1])\n",
    "plt.hist(x, bins = 100, range=[0, .1])\n",
    "plt.xlabel('values of training elements')\n",
    "plt.yscale('log')\n",
    "plt.show()"
   ]
  },
  {
   "cell_type": "code",
   "execution_count": 58,
   "metadata": {},
   "outputs": [
    {
     "data": {
      "text/plain": [
       "5.4"
      ]
     },
     "execution_count": 58,
     "metadata": {},
     "output_type": "execute_result"
    }
   ],
   "source": [
    "test = np.load('testing.npy')\n",
    "test_labels = np.load('testing-labels.npy')\n",
    "evalAccuracy(theta, test, test_labels)"
   ]
  },
  {
   "cell_type": "code",
   "execution_count": null,
   "metadata": {},
   "outputs": [],
   "source": []
  },
  {
   "cell_type": "code",
   "execution_count": null,
   "metadata": {},
   "outputs": [],
   "source": []
  },
  {
   "cell_type": "code",
   "execution_count": null,
   "metadata": {},
   "outputs": [],
   "source": []
  }
 ],
 "metadata": {
  "kernelspec": {
   "display_name": "Python 3",
   "language": "python",
   "name": "python3"
  },
  "language_info": {
   "codemirror_mode": {
    "name": "ipython",
    "version": 3
   },
   "file_extension": ".py",
   "mimetype": "text/x-python",
   "name": "python",
   "nbconvert_exporter": "python",
   "pygments_lexer": "ipython3",
   "version": "3.8.2"
  }
 },
 "nbformat": 4,
 "nbformat_minor": 4
}
