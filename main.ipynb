{
 "cells": [
  {
   "cell_type": "code",
   "execution_count": 2,
   "metadata": {},
   "outputs": [],
   "source": [
    "import numpy as np\n",
    "import json"
   ]
  },
  {
   "cell_type": "code",
   "execution_count": 3,
   "metadata": {},
   "outputs": [],
   "source": [
    "with open('appearances_in_doc.txt', 'r') as fin:\n",
    "    oc = json.loads(fin.read())"
   ]
  },
  {
   "cell_type": "code",
   "execution_count": 9,
   "metadata": {},
   "outputs": [],
   "source": [
    "def amtofWords(word):\n",
    "    thecounter = 0\n",
    "    for x in oc.keys():\n",
    "        try:\n",
    "            thecounter += oc[x][word]\n",
    "        except:\n",
    "            pass\n",
    "    return thecounter"
   ]
  },
  {
   "cell_type": "code",
   "execution_count": 13,
   "metadata": {},
   "outputs": [
    {
     "data": {
      "text/plain": [
       "29"
      ]
     },
     "execution_count": 13,
     "metadata": {},
     "output_type": "execute_result"
    }
   ],
   "source": [
    "amtofWords(\"languid\")"
   ]
  },
  {
   "cell_type": "code",
   "execution_count": 16,
   "metadata": {},
   "outputs": [],
   "source": [
    "with open('training.txt', 'r') as data:\n",
    "            lines = data.read().splitlines() "
   ]
  },
  {
   "cell_type": "code",
   "execution_count": 17,
   "metadata": {},
   "outputs": [
    {
     "data": {
      "text/plain": [
       "'the main another curious and picturesque series of wall gardens are made by thin streams that slowly from and slip gently over smooth slopes from of sand and mud they carry a pair of sheets of soil an inch or two thick are formed one of them hanging down from the brow of the slope the other leaning up our national from the foot of it like and the soil being held together by the moisture plants growing in it along the rocky parts of the between lake where the streams flow fast over polished granite there are rows of gardens full of and other common plants of the neighborhood nicely arranged like and out in telling on the bare shining rock banks and au the way up the to the summit mountains wherever there is soil of any sort there is no lack of flowers however short the summer may be within eight or ten feet of a snow bank lingering beneath a shadow you may see their in september and hurrying up their brown on ground that has been free from snow only eight or ten days and likely to be covered again within a few weeks the winter in the of these shadow gardens being about eleven months long while spring summer and autumn are hurried and crowded into one month again under favorable conditions gardens three or four thousand feet higher than the last are in then prime in june between the summit peaks at the head of the sur effects are produced where the sunshine falls direct on rocky slopes and among toward the end of august in wild of the park one of these natural on the north shore of a lake feet above the sea i found a luxuriant growth of hairy and the mountain with thousands of purple flowers an inch wide while the opposite shore at a distance of only three hundred yards was bound in heavy snow Ã¢ on one Ã¢ de winter on the other and i know a bench garden on the north wall of in which a few flowers are in bloom all winter the massive rocks about it up sunshine enough in summer to melt the snow about as fast as it falls when tired of the confinement of my cabin i used to camp out in it in january and never failed to find flowers and also except during and a few days after from one can easily walk in a day to the top of mount a massive nay mountain tiiat rises in the centre of the park with easy slopes adorned with piles and on the south side rugged with perpetual snow on the north most of the broad summit is comparatively level and smooth and covered with of tour etc out and strewn loosely as if sown their radiance so in some places as to fairly hide the multitude of c our national small flowers that grow among them of keen lance rays infinitely fine white or colored making an almost continuous glow over all the ground with here and there throbbing lilies of on the larger gems at first sight only these crystal are noticed but looking closely you discover minute g etc in thousands showing more than leaves and larger plants in hollows and on the borders of Ã¢ mountain fringed with you wander about from s to s enchanted Ã¢ if talking b thÃ¢ the brightest gems each and all apparently doing their best with eager enthusiasm as if everything depended on faithful shining and considering the flowers in the glorious light many of them looking like of small and that were resting after long dances in the now your attention is called to colonies of and the in front of their glittering like heaps of Ã¢ romantic ground to live in or die in now you look abroad over the vast round landscape bounded by the down sky nearly all the park in it displayed like a map Ã¢ forests meadows lakes rock waves and snowy mountains northward lies the basin of creek paved with bright and lakes like larger wild gardens of the park eastward the region and the summit peaks in glorious array southward and westward the boundless forests on no other mountain that i know of are you more likely to linger it is a magnificent camp ground of dwarf pine furnish roots and branches for fuel and the pure water around your camp fire the flowers seem to be looking eagerly at the and the shine making company as you ke at rest in the y ry heart of the vast serene majestic night the finest of the meadow gardens lie at an elevation of about nine thousand feet in the upper pine forests like lakes of light they are smooth and level a mile or two long and the rich well drained ground is completely covered with a soft sod with flowers not one of which is in the least or coarse in some places the sod is so crowded with flowers that the are scarce noticed in others they are rather scattered while every leaf and flower seems to have its winged representative in the of happy flower like insects that the air above them with the winter wings and are folded and for more than half the year the meadows are snow ten or fifteen deep in june they begin to out small patches of our national the dead sod appear gradually increasing in size until they are free and warm a fain face to face ma the sky of push through the steaming mould sing soon joined by the birds and the merry insects come back as if suddenly raised from the dead soon t e ground is een th and and dotted with small making the first crop of the season then the grass leaves a new sod and the exceedingly slender rise above it like a purple mist ,13'"
      ]
     },
     "execution_count": 17,
     "metadata": {},
     "output_type": "execute_result"
    }
   ],
   "source": [
    "lines[0]"
   ]
  },
  {
   "cell_type": "code",
   "execution_count": 18,
   "metadata": {},
   "outputs": [],
   "source": [
    "x = ['the', 'main', 'another', 'curious', 'and', 'picturesque', 'series', 'of', 'wall', 'gardens', 'are', 'made', 'by', 'thin', 'streams', 'that', 'slowly', 'from', 'slip', 'gently', 'over', 'smooth', 'slopes', 'sand', 'mud', 'they', 'carry', 'a', 'pair', 'sheets', 'soil', 'an', 'inch', 'or', 'two', 'thick', 'formed', 'one', 'them', 'hanging', 'down', 'brow', 'slope', 'other', 'leaning', 'up', 'our', 'national', 'foot', 'it', 'like', 'being', 'held', 'together', 'moisture', 'plants', 'growing', 'in', 'along', 'rocky', 'parts', 'between', 'lake', 'where', 'flow', 'fast', 'polished', 'granite', 'there', 'rows', 'full', 'common', 'neighborhood', 'nicely', 'arranged', 'out', 'telling', 'on', 'bare', 'shining', 'rock', 'banks', 'au', 'way', 'to', 'summit', 'mountains', 'wherever', 'is', 'any', 'sort', 'no', 'lack', 'flowers', 'however', 'short', 'summer', 'may', 'be', 'within', 'eight', 'ten', 'feet', 'snow', 'bank', 'lingering', 'beneath', 'shadow', 'you', 'see', 'their', 'september', 'hurrying', 'brown', 'ground', 'has', 'been', 'free', 'only', 'days', 'likely', 'covered', 'again', 'few', 'weeks', 'winter', 'these', 'about', 'eleven', 'months', 'long', 'while', 'spring', 'autumn', 'hurried', 'crowded', 'into', 'month', 'under', 'favorable', 'conditions', 'three', 'four', 'thousand', 'higher', 'than', 'last', 'then', 'prime', 'june', 'peaks', 'at', 'head', 'sur', 'effects', 'produced', 'sunshine', 'falls', 'direct', 'among', 'toward', 'end', 'august', 'wild', 'park', 'natural', 'north', 'shore', 'above', 'sea', 'i', 'found', 'luxuriant', 'growth', 'hairy', 'mountain', 'with', 'thousands', 'purple', 'wide', 'opposite', 'distance', 'hundred', 'yards', 'was', 'bound', 'heavy', 'de', 'know', 'bench', 'garden', 'which', 'bloom', 'all', 'massive', 'rocks', 'enough', 'melt', 'as', 'when', 'tired', 'confinement', 'my', 'cabin', 'used', 'camp', 'january', 'never', 'failed', 'find', 'also', 'except', 'during', 'after', 'can', 'easily', 'walk', 'day', 'top', 'mount', 'nay', 'tiiat', 'rises', 'centre', 'easy', 'adorned', 'piles', 'south', 'side', 'rugged', 'perpetual', 'most', 'broad', 'comparatively', 'level', 'tour', 'etc', 'strewn', 'loosely', 'if', 'sown', 'radiance', 'so', 'some', 'places', 'fairly', 'hide', 'multitude', 'c', 'small', 'grow', 'keen', 'lance', 'rays', 'infinitely', 'fine', 'white', 'colored', 'making', 'almost', 'continuous', 'glow', 'here', 'throbbing', 'lilies', 'larger', 'gems', 'first', 'sight', 'crystal', 'noticed', 'but', 'looking', 'closely', 'discover', 'minute', 'g', 'showing', 'more', 'leaves', 'hollows', 'borders', 'fringed', 'wander', 's', 'enchanted', 'talking', 'b', 'brightest', 'each', 'apparently', 'doing', 'best', 'eager', 'enthusiasm', 'everything', 'depended', 'faithful', 'considering', 'glorious', 'light', 'many', 'were', 'resting', 'dances', 'now', 'your', 'attention', 'called', 'colonies', 'front', 'glittering', 'heaps', 'romantic', 'live', 'die', 'look', 'abroad', 'vast', 'round', 'landscape', 'bounded', 'sky', 'nearly', 'displayed', 'map', 'forests', 'meadows', 'lakes', 'waves', 'snowy', 'northward', 'lies', 'basin', 'creek', 'paved', 'bright', 'eastward', 'region', 'array', 'southward', 'westward', 'boundless', 'linger', 'magnificent', 'dwarf', 'pine', 'furnish', 'roots', 'branches', 'for', 'fuel', 'pure', 'water', 'around', 'fire', 'seem', 'eagerly', 'shine', 'company', 'ke', 'rest', 'y', 'ry', 'heart', 'serene', 'majestic', 'night', 'finest', 'meadow', 'lie', 'elevation', 'nine', 'upper', 'mile', 'rich', 'well', 'drained', 'completely', 'soft', 'sod', 'not', 'least', 'coarse', 'scarce', 'others', 'rather', 'scattered', 'every', 'leaf', 'flower', 'seems', 'have', 'its', 'winged', 'representative', 'happy', 'insects', 'air', 'wings', 'folded', 'half', 'year', 'fifteen', 'deep', 'begin', 'patches', 'dead', 'appear', 'gradually', 'increasing', 'size', 'until', 'warm', 'fain', 'face', 'ma', 'push', 'through', 'steaming', 'mould', 'sing', 'soon', 'joined', 'birds', 'merry', 'come', 'back', 'suddenly', 'raised', 't', 'e', 'een', 'th', 'dotted', 'crop', 'season', 'grass', 'new', 'exceedingly', 'slender', 'rise', 'mist']"
   ]
  },
  {
   "cell_type": "code",
   "execution_count": 27,
   "metadata": {},
   "outputs": [
    {
     "name": "stdout",
     "output_type": "stream",
     "text": [
      "443\n",
      "443\n"
     ]
    }
   ],
   "source": []
  },
  {
   "cell_type": "code",
   "execution_count": null,
   "metadata": {},
   "outputs": [],
   "source": []
  }
 ],
 "metadata": {
  "kernelspec": {
   "display_name": "Python 3",
   "language": "python",
   "name": "python3"
  },
  "language_info": {
   "codemirror_mode": {
    "name": "ipython",
    "version": 3
   },
   "file_extension": ".py",
   "mimetype": "text/x-python",
   "name": "python",
   "nbconvert_exporter": "python",
   "pygments_lexer": "ipython3",
   "version": "3.8.2"
  }
 },
 "nbformat": 4,
 "nbformat_minor": 4
}
