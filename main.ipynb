{
 "cells": [
  {
   "cell_type": "code",
   "execution_count": 65,
   "metadata": {},
   "outputs": [],
   "source": [
    "import numpy as np\n",
    "import json\n",
    "import math\n",
    "train = np.load('feats.npy')\n",
    "train_labels = np.load('labels.npy')\n",
    "np.random.seed(42)\n",
    "theta = 2 * np.random.rand(15, 10000) - 1"
   ]
  },
  {
   "cell_type": "code",
   "execution_count": 2,
   "metadata": {},
   "outputs": [],
   "source": [
    "def softmax(x):\n",
    "    \"\"\"Compute softmax values for each sets of scores in x.\"\"\"\n",
    "    e_x = np.exp(x - np.max(x))\n",
    "    return e_x / e_x.sum()\n",
    "\n",
    "def inference(theta, feats):\n",
    "    \"\"\"make a prediction given a vector of features\"\"\"\n",
    "    eY = softmax(np.matmul(theta, feats))\n",
    "    return eY\n",
    "    "
   ]
  },
  {
   "cell_type": "code",
   "execution_count": 3,
   "metadata": {},
   "outputs": [],
   "source": [
    "def updatedPredictionMatrix(inference, label, feats):\n",
    "    \"\"\"creates matrix for updating theta based off of gradient of softmax + cross/entropy\"\"\"\n",
    "    inference[int(label)-1] = 1 - inference[int(label)-1]\n",
    "    return -5 * np.matmul(inference.reshape(len(inference), 1), np.column_stack(feats))\n",
    "\n",
    "def printLoss(inference, label):\n",
    "    \"\"\"print cross entropy loss, assuming actual y is one hot encoded\"\"\"\n",
    "    loss = -math.log(inference[int(label)-1])\n",
    "    print('Loss:', loss)\n",
    "    \n",
    "def loss(inference, label):\n",
    "    \"\"\"return cross entropy loss, assuming actual y is one hot encoded\"\"\"\n",
    "    try:\n",
    "        ans = -math.log(inference[int(label)-1])\n",
    "        return ans\n",
    "    except ValueError:\n",
    "        return 0\n",
    "\n",
    "def evalLoss(theta, train, label):\n",
    "    avgloss = 0\n",
    "    for x in range(len(train)):\n",
    "        los = loss(softmax(inference(theta, train[x])), label[x])\n",
    "#         pred = softmax(inference(theta, train[x]))\n",
    "        avgloss += los\n",
    "#         if (los > 3):\n",
    "#             print(los)\n",
    "#             qualitative(x, theta, train, label)\n",
    "    return avgloss / len(train)\n",
    "\n",
    "def evalAccuracy(theta, train, label):\n",
    "    correct = 0\n",
    "    for x in range(len(train)):\n",
    "        pred = np.argmax(softmax(inference(theta, train[x])))\n",
    "        if (pred == int(label[x])):\n",
    "            correct += 1\n",
    "    return round(correct / len(train), 4)"
   ]
  },
  {
   "cell_type": "code",
   "execution_count": 4,
   "metadata": {},
   "outputs": [],
   "source": [
    "def full_gradient_descent(theta, labels, train):\n",
    "    N = len(train)\n",
    "    updateM = np.zeros((15, 10000))\n",
    "    print(\"Beginning \", end = '')\n",
    "    y = np.linalg.norm(theta)\n",
    "    print(evalTrain(theta, train, labels))\n",
    "    for x in range(len(train)):\n",
    "        expY = inference(theta, train[x])\n",
    "        update = updatedPredictionMatrix(expY, labels[x], train[x])\n",
    "        if ( x % 1000 == 0):\n",
    "            print('Step', str(x)+'/'+str(N)+'  ')\n",
    "        update = np.add(update, updateM)\n",
    "    theta = np.add(theta, update)\n",
    "    print(\"End \", end='')\n",
    "    print(evalTrain(theta, train, labels))\n",
    "    return theta"
   ]
  },
  {
   "cell_type": "code",
   "execution_count": 5,
   "metadata": {},
   "outputs": [],
   "source": [
    "# for x in range(10):\n",
    "#     print(\"epoch\", x)\n",
    "#     theta = full_gradient_descent(theta, train_labels, train)"
   ]
  },
  {
   "cell_type": "code",
   "execution_count": 6,
   "metadata": {},
   "outputs": [],
   "source": [
    "\n",
    "def stochastic_descent(theta, labels, train):\n",
    "    N = len(train)\n",
    "    updateM = np.zeros((15, 10000))\n",
    "    y = np.linalg.norm(theta)\n",
    "    for x in range(100):\n",
    "        randSample = np.random.randint(0, train.shape[0])\n",
    "        expY = inference(theta, train[randSample]) #correct?\n",
    "        update = updatedPredictionMatrix(expY, labels[x], train[randSample])\n",
    "#             print('Step', str(x)+'/'+str(N)+'  ')\n",
    "        update = np.add(update, updateM)\n",
    "    theta = np.add(theta, update)\n",
    "    print(\"Loss: \", end='')\n",
    "    print(evalLoss(theta, train, labels))\n",
    "    print('Accuracy: ', str(evalAccuracy(theta, train, labels))+'%')\n",
    "    return theta\n",
    "\n",
    "        "
   ]
  },
  {
   "cell_type": "code",
   "execution_count": null,
   "metadata": {},
   "outputs": [
    {
     "name": "stdout",
     "output_type": "stream",
     "text": [
      "Beginning Loss: 2.7080139098107967\n",
      "Beginning epoch 0\n",
      "\n",
      "Loss: 2.708009936058737\n",
      "Accuracy:  0.0553%\n",
      "\n",
      "Beginning epoch 1\n",
      "\n",
      "Loss: 2.7080072476122483\n",
      "Accuracy:  0.056%\n",
      "\n",
      "Beginning epoch 2\n",
      "\n",
      "Loss: 2.7080039038757433\n",
      "Accuracy:  0.056%\n",
      "\n",
      "Beginning epoch 3\n",
      "\n",
      "Loss: 2.7080013368017517\n",
      "Accuracy:  0.0557%\n",
      "\n",
      "Beginning epoch 4\n",
      "\n",
      "Loss: 2.7079978186494853\n",
      "Accuracy:  0.0553%\n",
      "\n",
      "Beginning epoch 5\n",
      "\n",
      "Loss: 2.7079950678210576\n",
      "Accuracy:  0.0547%\n",
      "\n",
      "Beginning epoch 6\n",
      "\n",
      "Loss: 2.7079919536595085\n",
      "Accuracy:  0.0543%\n",
      "\n",
      "Beginning epoch 7\n",
      "\n",
      "Loss: 2.7079895811361325\n",
      "Accuracy:  0.0543%\n",
      "\n",
      "Beginning epoch 8\n",
      "\n",
      "Loss: 2.7079865490687998\n",
      "Accuracy:  0.0537%\n",
      "\n",
      "Beginning epoch 9\n",
      "\n"
     ]
    }
   ],
   "source": [
    "print(\"Beginning Loss: \", end = '')\n",
    "print(evalLoss(theta, train, train_labels))\n",
    "for x in range(10):\n",
    "    print(\"Beginning epoch\", x, end = '\\n\\n')\n",
    "    theta = stochastic_descent(theta, train_labels, train)\n",
    "    print()"
   ]
  },
  {
   "cell_type": "code",
   "execution_count": 8,
   "metadata": {},
   "outputs": [],
   "source": [
    "def qualitative(y, theta, train, labels):\n",
    "    pred = softmax(inference(theta, train[y]))\n",
    "    for i, x in enumerate(pred):\n",
    "        print(i+1, x)\n",
    "    print('prediction:', np.argmax(pred)+1)\n",
    "    print('actual:', int(labels[y]))\n",
    "    print('loss:', loss(pred, labels[y]))"
   ]
  },
  {
   "cell_type": "code",
   "execution_count": 59,
   "metadata": {},
   "outputs": [
    {
     "data": {
      "text/plain": [
       "array([10.00014178, 10.00005203, 10.00004502, ...,  0.        ,\n",
       "        0.        ,  0.        ])"
      ]
     },
     "execution_count": 59,
     "metadata": {},
     "output_type": "execute_result"
    }
   ],
   "source": [
    "\n",
    "np.reshape(train, train.shape[0]*train.shape[1])"
   ]
  },
  {
   "cell_type": "code",
   "execution_count": 27,
   "metadata": {},
   "outputs": [
    {
     "name": "stdout",
     "output_type": "stream",
     "text": [
      "1.4164321034889724\n"
     ]
    }
   ],
   "source": [
    "with open('data/training.txt', 'r') as fin:\n",
    "    x = fin.read().splitlines()\n",
    "a = x[0].split(' ')\n",
    "noThe = 0\n",
    "for x in range(len(a)-1):\n",
    "    if a[x] == 'the':\n",
    "        noThe += 1\n",
    "print(noThe/len(a)*math.log(3000/2995)*10000)\n"
   ]
  },
  {
   "cell_type": "code",
   "execution_count": 66,
   "metadata": {},
   "outputs": [
    {
     "data": {
      "image/png": "[encoded data removed]",
      "text/plain": [
       "<Figure size 432x288 with 1 Axes>"
      ]
     },
     "metadata": {
      "needs_background": "light"
     },
     "output_type": "display_data"
    }
   ],
   "source": [
    "import matplotlib.pyplot as plt\n",
    "x = np.reshape(train, train.shape[0]*train.shape[1])\n",
    "plt.hist(x, bins = 100, range=[0, .6])\n",
    "plt.yscale('log')\n",
    "plt.show()"
   ]
  },
  {
   "cell_type": "code",
   "execution_count": 67,
   "metadata": {},
   "outputs": [
    {
     "data": {
      "image/png": "[encoded data removed]",
      "text/plain": [
       "<Figure size 432x288 with 1 Axes>"
      ]
     },
     "metadata": {
      "needs_background": "light"
     },
     "output_type": "display_data"
    }
   ],
   "source": [
    "x = np.reshape(train, train.shape[0]*train.shape[1])\n",
    "plt.hist(x, bins = 100, range=[0, .1])\n",
    "plt.yscale('log')\n",
    "plt.show()"
   ]
  },
  {
   "cell_type": "code",
   "execution_count": 68,
   "metadata": {},
   "outputs": [
    {
     "data": {
      "text/plain": [
       "array([1.41784854e-04, 5.20260173e-05, 4.50225150e-05, ...,\n",
       "       0.00000000e+00, 0.00000000e+00, 0.00000000e+00])"
      ]
     },
     "execution_count": 68,
     "metadata": {},
     "output_type": "execute_result"
    }
   ],
   "source": [
    "train[0]"
   ]
  },
  {
   "cell_type": "code",
   "execution_count": null,
   "metadata": {},
   "outputs": [],
   "source": []
  }
 ],
 "metadata": {
  "kernelspec": {
   "display_name": "Python 3",
   "language": "python",
   "name": "python3"
  },
  "language_info": {
   "codemirror_mode": {
    "name": "ipython",
    "version": 3
   },
   "file_extension": ".py",
   "mimetype": "text/x-python",
   "name": "python",
   "nbconvert_exporter": "python",
   "pygments_lexer": "ipython3",
   "version": "3.8.2"
  }
 },
 "nbformat": 4,
 "nbformat_minor": 4
}
