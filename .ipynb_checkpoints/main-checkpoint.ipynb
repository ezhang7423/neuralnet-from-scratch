{
 "cells": [
  {
   "cell_type": "code",
   "execution_count": 1,
   "metadata": {},
   "outputs": [],
   "source": [
    "import numpy as np"
   ]
  },
  {
   "cell_type": "code",
   "execution_count": 9,
   "metadata": {},
   "outputs": [],
   "source": [
    "A = np.arange(1, 21).reshape(5, 4)\n",
    "B = np.arange(1, 13).reshape(4, 3)"
   ]
  },
  {
   "cell_type": "code",
   "execution_count": 11,
   "metadata": {},
   "outputs": [
    {
     "name": "stdout",
     "output_type": "stream",
     "text": [
      "[[ 1  2  3  4]\n",
      " [ 5  6  7  8]\n",
      " [ 9 10 11 12]\n",
      " [13 14 15 16]\n",
      " [17 18 19 20]]\n",
      "[[ 1  2  3]\n",
      " [ 4  5  6]\n",
      " [ 7  8  9]\n",
      " [10 11 12]]\n",
      "[[ 70  80  90]\n",
      " [158 184 210]\n",
      " [246 288 330]\n",
      " [334 392 450]\n",
      " [422 496 570]]\n"
     ]
    }
   ],
   "source": [
    "print(A)\n",
    "print(B)\n",
    "print(np.matmul(A, B))"
   ]
  },
  {
   "cell_type": "markdown",
   "metadata": {},
   "source": [
    " (Sparse matrix-vector multiplication) What is the worst case time complexity (in Big O\n",
    "notation) of multiplying a matrix A of dimension R n×n with a dense vector v ∈ R n ? What\n",
    "if matrix A is sparse, denote the number of non-zero elements by nnz(A)? Write a python\n",
    "function that takes a nonnegative integer n and outputs a sparse matrix A of size n − 1 × n,\n",
    "such that for any x ∈ R n , Ax = [x 1 −x 2 ,...,x n−1 −x n ] T . Write a script that calls this function\n",
    "and print the resulting A for n = 5. (Make sure you use the sparse matrix library in python\n",
    "is scipy.sparse.)"
   ]
  },
  {
   "cell_type": "code",
   "execution_count": 26,
   "metadata": {},
   "outputs": [],
   "source": [
    "n = 5\n",
    "sparseMatrix = spareConstructor(np.zeros((n-1, n)))"
   ]
  },
  {
   "cell_type": "code",
   "execution_count": 27,
   "metadata": {},
   "outputs": [],
   "source": [
    "def spareConstructor(sMatrix):\n",
    "    maX = sMatrix.shape[0]\n",
    "    maY = sMatrix.shape[1]\n",
    "    for x in range(maX):\n",
    "        sMatrix[x][x] = 1\n",
    "        sMatrix[x][x+1] = -1\n",
    "    return sMatrix\n"
   ]
  },
  {
   "cell_type": "code",
   "execution_count": 28,
   "metadata": {},
   "outputs": [
    {
     "name": "stdout",
     "output_type": "stream",
     "text": [
      "[[ 1. -1.  0.  0.  0.]\n",
      " [ 0.  1. -1.  0.  0.]\n",
      " [ 0.  0.  1. -1.  0.]\n",
      " [ 0.  0.  0.  1. -1.]]\n"
     ]
    }
   ],
   "source": [
    "print(sparseMatrix)"
   ]
  },
  {
   "cell_type": "markdown",
   "metadata": {},
   "source": [
    "Question 4"
   ]
  },
  {
   "cell_type": "code",
   "execution_count": 29,
   "metadata": {},
   "outputs": [],
   "source": [
    "def fac(n):\n",
    "    if n == 1:\n",
    "        return 1\n",
    "    return n * fac(n -1)"
   ]
  },
  {
   "cell_type": "code",
   "execution_count": 30,
   "metadata": {},
   "outputs": [
    {
     "data": {
      "text/plain": [
       "120"
      ]
     },
     "execution_count": 30,
     "metadata": {},
     "output_type": "execute_result"
    }
   ],
   "source": [
    "fac(5)"
   ]
  },
  {
   "cell_type": "markdown",
   "metadata": {},
   "source": [
    "Question 3"
   ]
  },
  {
   "cell_type": "code",
   "execution_count": 57,
   "metadata": {},
   "outputs": [],
   "source": [
    "with open('training.txt', 'r') as data:\n",
    "    lines = data.read().splitlines() "
   ]
  },
  {
   "cell_type": "code",
   "execution_count": 58,
   "metadata": {},
   "outputs": [],
   "source": [
    "#idea: use hashtable to store occurences of words, and build a fake priority queue using list to maintain top 20"
   ]
  },
  {
   "cell_type": "code",
   "execution_count": 105,
   "metadata": {},
   "outputs": [],
   "source": [
    "occurences = {}\n",
    "top20 = [('buffer', 0) for x in range(20)]\n",
    "for x in range(len(lines)):\n",
    "    currentLine = lines[x].split(' ')\n",
    "    for y in range(len(currentLine)):\n",
    "        try:\n",
    "            occurences[currentLine[y]] += 1\n",
    "            if occurences[currentLine[y]] > top20[19][1]:\n",
    "                inn = False\n",
    "                for x in range(20):\n",
    "                    if top20[x][0] == currentLine[y]:\n",
    "                        top20[x] = (top20[x][0], top20[x][1] + 1)\n",
    "                        inn = True\n",
    "                        break\n",
    "                if (not inn):\n",
    "                    top20[19] = (currentLine[y], occurences[currentLine[y]])\n",
    "                    top20.sort(reverse = True, key=lambda el: el[1])\n",
    "        except KeyError: \n",
    "            occurences[currentLine[y]] = 1\n",
    "            if occurences[currentLine[y]] > top20[19][1]:\n",
    "                top20[19] = (currentLine[y], occurences[currentLine[y]])\n",
    "                top20.sort(reverse = True, key=lambda el: el[1])\n",
    "    "
   ]
  },
  {
   "cell_type": "code",
   "execution_count": 111,
   "metadata": {},
   "outputs": [
    {
     "name": "stdout",
     "output_type": "stream",
     "text": [
      "('the', 190806)\n",
      "('of', 116447)\n",
      "('and', 102422)\n",
      "('to', 89251)\n",
      "('a', 72558)\n",
      "('in', 56026)\n",
      "('i', 45308)\n",
      "('that', 39378)\n",
      "('he', 38160)\n",
      "('it', 34361)\n",
      "('was', 33834)\n",
      "('his', 28771)\n",
      "('â', 28051)\n",
      "('with', 25151)\n",
      "('as', 25032)\n",
      "('for', 23788)\n",
      "('you', 2666)\n",
      "('is', 817)\n",
      "('had', 538)\n",
      "('her', 404)\n"
     ]
    }
   ],
   "source": [
    "\n",
    "top20.sort(reverse = True, key=lambda el: el[1])\n",
    "for x in range(20):\n",
    "    print(top20[x])"
   ]
  },
  {
   "cell_type": "code",
   "execution_count": 114,
   "metadata": {},
   "outputs": [
    {
     "data": {
      "text/plain": [
       "',13'"
      ]
     },
     "execution_count": 114,
     "metadata": {},
     "output_type": "execute_result"
    }
   ],
   "source": [
    "lines[0].split(' ')[-1]"
   ]
  },
  {
   "cell_type": "code",
   "execution_count": null,
   "metadata": {},
   "outputs": [],
   "source": []
  }
 ],
 "metadata": {
  "kernelspec": {
   "display_name": "Python 3",
   "language": "python",
   "name": "python3"
  },
  "language_info": {
   "codemirror_mode": {
    "name": "ipython",
    "version": 3
   },
   "file_extension": ".py",
   "mimetype": "text/x-python",
   "name": "python",
   "nbconvert_exporter": "python",
   "pygments_lexer": "ipython3",
   "version": "3.7.4"
  }
 },
 "nbformat": 4,
 "nbformat_minor": 4
}
